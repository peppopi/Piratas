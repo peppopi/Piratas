{
  "nbformat": 4,
  "nbformat_minor": 0,
  "metadata": {
    "colab": {
      "provenance": [],
      "authorship_tag": "ABX9TyMfAm9z55PBdJAS/qNyVZg8",
      "include_colab_link": true
    },
    "kernelspec": {
      "name": "python3",
      "display_name": "Python 3"
    },
    "language_info": {
      "name": "python"
    }
  },
  "cells": [
    {
      "cell_type": "markdown",
      "metadata": {
        "id": "view-in-github",
        "colab_type": "text"
      },
      "source": [
        "<a href=\"https://colab.research.google.com/github/peppopi/Piratas/blob/main/Vae_Edditor.ipynb\" target=\"_parent\"><img src=\"https://colab.research.google.com/assets/colab-badge.svg\" alt=\"Open In Colab\"/></a>"
      ]
    },
    {
      "cell_type": "code",
      "source": [
        "#@markdown ### 4️⃣ Dependencias (No usa gpu, en principio)\n",
        "!pip install diffusers omegaconf transformers accelerate\n",
        "\n"
      ],
      "metadata": {
        "id": "3CdP3j_yj6dY",
        "colab": {
          "base_uri": "https://localhost:8080/",
          "height": 1000
        },
        "cellView": "form",
        "outputId": "1b19b531-1d46-43ae-e6e2-a14300f6072d"
      },
      "execution_count": 1,
      "outputs": [
        {
          "output_type": "stream",
          "name": "stdout",
          "text": [
            "Collecting diffusers\n",
            "  Downloading diffusers-0.18.0-py3-none-any.whl (1.2 MB)\n",
            "\u001b[2K     \u001b[90m━━━━━━━━━━━━━━━━━━━━━━━━━━━━━━━━━━━━━━━━\u001b[0m \u001b[32m1.2/1.2 MB\u001b[0m \u001b[31m16.6 MB/s\u001b[0m eta \u001b[36m0:00:00\u001b[0m\n",
            "\u001b[?25hCollecting omegaconf\n",
            "  Downloading omegaconf-2.3.0-py3-none-any.whl (79 kB)\n",
            "\u001b[2K     \u001b[90m━━━━━━━━━━━━━━━━━━━━━━━━━━━━━━━━━━━━━━━━\u001b[0m \u001b[32m79.5/79.5 kB\u001b[0m \u001b[31m9.0 MB/s\u001b[0m eta \u001b[36m0:00:00\u001b[0m\n",
            "\u001b[?25hCollecting transformers\n",
            "  Downloading transformers-4.30.2-py3-none-any.whl (7.2 MB)\n",
            "\u001b[2K     \u001b[90m━━━━━━━━━━━━━━━━━━━━━━━━━━━━━━━━━━━━━━━━\u001b[0m \u001b[32m7.2/7.2 MB\u001b[0m \u001b[31m89.9 MB/s\u001b[0m eta \u001b[36m0:00:00\u001b[0m\n",
            "\u001b[?25hCollecting accelerate\n",
            "  Downloading accelerate-0.20.3-py3-none-any.whl (227 kB)\n",
            "\u001b[2K     \u001b[90m━━━━━━━━━━━━━━━━━━━━━━━━━━━━━━━━━━━━━━\u001b[0m \u001b[32m227.6/227.6 kB\u001b[0m \u001b[31m20.7 MB/s\u001b[0m eta \u001b[36m0:00:00\u001b[0m\n",
            "\u001b[?25hRequirement already satisfied: Pillow in /usr/local/lib/python3.10/dist-packages (from diffusers) (8.4.0)\n",
            "Requirement already satisfied: filelock in /usr/local/lib/python3.10/dist-packages (from diffusers) (3.12.2)\n",
            "Collecting huggingface-hub>=0.13.2 (from diffusers)\n",
            "  Downloading huggingface_hub-0.16.2-py3-none-any.whl (268 kB)\n",
            "\u001b[2K     \u001b[90m━━━━━━━━━━━━━━━━━━━━━━━━━━━━━━━━━━━━━━\u001b[0m \u001b[32m268.5/268.5 kB\u001b[0m \u001b[31m25.0 MB/s\u001b[0m eta \u001b[36m0:00:00\u001b[0m\n",
            "\u001b[?25hCollecting importlib-metadata (from diffusers)\n",
            "  Downloading importlib_metadata-6.7.0-py3-none-any.whl (22 kB)\n",
            "Requirement already satisfied: numpy in /usr/local/lib/python3.10/dist-packages (from diffusers) (1.22.4)\n",
            "Requirement already satisfied: regex!=2019.12.17 in /usr/local/lib/python3.10/dist-packages (from diffusers) (2022.10.31)\n",
            "Requirement already satisfied: requests in /usr/local/lib/python3.10/dist-packages (from diffusers) (2.27.1)\n",
            "Collecting antlr4-python3-runtime==4.9.* (from omegaconf)\n",
            "  Downloading antlr4-python3-runtime-4.9.3.tar.gz (117 kB)\n",
            "\u001b[2K     \u001b[90m━━━━━━━━━━━━━━━━━━━━━━━━━━━━━━━━━━━━━━\u001b[0m \u001b[32m117.0/117.0 kB\u001b[0m \u001b[31m13.3 MB/s\u001b[0m eta \u001b[36m0:00:00\u001b[0m\n",
            "\u001b[?25h  Preparing metadata (setup.py) ... \u001b[?25l\u001b[?25hdone\n",
            "Requirement already satisfied: PyYAML>=5.1.0 in /usr/local/lib/python3.10/dist-packages (from omegaconf) (6.0)\n",
            "Requirement already satisfied: packaging>=20.0 in /usr/local/lib/python3.10/dist-packages (from transformers) (23.1)\n",
            "Collecting tokenizers!=0.11.3,<0.14,>=0.11.1 (from transformers)\n",
            "  Downloading tokenizers-0.13.3-cp310-cp310-manylinux_2_17_x86_64.manylinux2014_x86_64.whl (7.8 MB)\n",
            "\u001b[2K     \u001b[90m━━━━━━━━━━━━━━━━━━━━━━━━━━━━━━━━━━━━━━━━\u001b[0m \u001b[32m7.8/7.8 MB\u001b[0m \u001b[31m96.8 MB/s\u001b[0m eta \u001b[36m0:00:00\u001b[0m\n",
            "\u001b[?25hCollecting safetensors>=0.3.1 (from transformers)\n",
            "  Downloading safetensors-0.3.1-cp310-cp310-manylinux_2_17_x86_64.manylinux2014_x86_64.whl (1.3 MB)\n",
            "\u001b[2K     \u001b[90m━━━━━━━━━━━━━━━━━━━━━━━━━━━━━━━━━━━━━━━━\u001b[0m \u001b[32m1.3/1.3 MB\u001b[0m \u001b[31m66.6 MB/s\u001b[0m eta \u001b[36m0:00:00\u001b[0m\n",
            "\u001b[?25hRequirement already satisfied: tqdm>=4.27 in /usr/local/lib/python3.10/dist-packages (from transformers) (4.65.0)\n",
            "Requirement already satisfied: psutil in /usr/local/lib/python3.10/dist-packages (from accelerate) (5.9.5)\n",
            "Requirement already satisfied: torch>=1.6.0 in /usr/local/lib/python3.10/dist-packages (from accelerate) (2.0.1+cu118)\n",
            "Requirement already satisfied: fsspec in /usr/local/lib/python3.10/dist-packages (from huggingface-hub>=0.13.2->diffusers) (2023.6.0)\n",
            "Requirement already satisfied: typing-extensions>=3.7.4.3 in /usr/local/lib/python3.10/dist-packages (from huggingface-hub>=0.13.2->diffusers) (4.6.3)\n",
            "Requirement already satisfied: sympy in /usr/local/lib/python3.10/dist-packages (from torch>=1.6.0->accelerate) (1.11.1)\n",
            "Requirement already satisfied: networkx in /usr/local/lib/python3.10/dist-packages (from torch>=1.6.0->accelerate) (3.1)\n",
            "Requirement already satisfied: jinja2 in /usr/local/lib/python3.10/dist-packages (from torch>=1.6.0->accelerate) (3.1.2)\n",
            "Requirement already satisfied: triton==2.0.0 in /usr/local/lib/python3.10/dist-packages (from torch>=1.6.0->accelerate) (2.0.0)\n",
            "Requirement already satisfied: cmake in /usr/local/lib/python3.10/dist-packages (from triton==2.0.0->torch>=1.6.0->accelerate) (3.25.2)\n",
            "Requirement already satisfied: lit in /usr/local/lib/python3.10/dist-packages (from triton==2.0.0->torch>=1.6.0->accelerate) (16.0.6)\n",
            "Requirement already satisfied: zipp>=0.5 in /usr/local/lib/python3.10/dist-packages (from importlib-metadata->diffusers) (3.15.0)\n",
            "Requirement already satisfied: urllib3<1.27,>=1.21.1 in /usr/local/lib/python3.10/dist-packages (from requests->diffusers) (1.26.16)\n",
            "Requirement already satisfied: certifi>=2017.4.17 in /usr/local/lib/python3.10/dist-packages (from requests->diffusers) (2023.5.7)\n",
            "Requirement already satisfied: charset-normalizer~=2.0.0 in /usr/local/lib/python3.10/dist-packages (from requests->diffusers) (2.0.12)\n",
            "Requirement already satisfied: idna<4,>=2.5 in /usr/local/lib/python3.10/dist-packages (from requests->diffusers) (3.4)\n",
            "Requirement already satisfied: MarkupSafe>=2.0 in /usr/local/lib/python3.10/dist-packages (from jinja2->torch>=1.6.0->accelerate) (2.1.3)\n",
            "Requirement already satisfied: mpmath>=0.19 in /usr/local/lib/python3.10/dist-packages (from sympy->torch>=1.6.0->accelerate) (1.3.0)\n",
            "Building wheels for collected packages: antlr4-python3-runtime\n",
            "  Building wheel for antlr4-python3-runtime (setup.py) ... \u001b[?25l\u001b[?25hdone\n",
            "  Created wheel for antlr4-python3-runtime: filename=antlr4_python3_runtime-4.9.3-py3-none-any.whl size=144554 sha256=1e8186560bae28348acdb664ce96b801a1704e7b57250ac66fb3f65cd27840b7\n",
            "  Stored in directory: /root/.cache/pip/wheels/12/93/dd/1f6a127edc45659556564c5730f6d4e300888f4bca2d4c5a88\n",
            "Successfully built antlr4-python3-runtime\n",
            "Installing collected packages: tokenizers, safetensors, antlr4-python3-runtime, omegaconf, importlib-metadata, huggingface-hub, transformers, diffusers, accelerate\n",
            "Successfully installed accelerate-0.20.3 antlr4-python3-runtime-4.9.3 diffusers-0.18.0 huggingface-hub-0.16.2 importlib-metadata-6.7.0 omegaconf-2.3.0 safetensors-0.3.1 tokenizers-0.13.3 transformers-4.30.2\n"
          ]
        },
        {
          "output_type": "display_data",
          "data": {
            "application/vnd.colab-display-data+json": {
              "pip_warning": {
                "packages": [
                  "pydevd_plugins"
                ]
              }
            }
          },
          "metadata": {}
        }
      ]
    },
    {
      "cell_type": "code",
      "source": [
        "#@markdown ### 4️⃣ Descargas el Vae que te guste\n",
        "import torch\n",
        "import gdown\n",
        "\n",
        "# URL del modelo VAE\n",
        "model_url = \"https://civitai.com/api/download/models/83798\" #@param {type:\"string\"}\n",
        "\n",
        "# Ruta de destino para guardar el archivo .pt\n",
        "save_path = \"vae_modelo.pt\"\n",
        "\n",
        "# Descargar el archivo del modelo VAE desde la URL\n",
        "gdown.download(model_url, save_path, quiet=False)\n",
        "\n",
        "# Cargar el modelo VAE desde el archivo .pt\n",
        "vae = torch.load(save_path)\n",
        "\n",
        "# Realizar inferencia o modificaciones adicionales con el modelo VAE cargado\n"
      ],
      "metadata": {
        "id": "ygYvHC0MiV0P",
        "colab": {
          "base_uri": "https://localhost:8080/"
        },
        "cellView": "form",
        "outputId": "ed2fa5e5-cc9b-4690-8038-bb502d27c5d0"
      },
      "execution_count": 2,
      "outputs": [
        {
          "output_type": "stream",
          "name": "stderr",
          "text": [
            "Downloading...\n",
            "From: https://civitai.com/api/download/models/83798\n",
            "To: /content/vae_modelo.pt\n",
            "100%|██████████| 335M/335M [00:05<00:00, 59.3MB/s]\n"
          ]
        }
      ]
    },
    {
      "cell_type": "code",
      "source": [
        "#@markdown ### 4️⃣ Tenes que tranformar ese Vae A Difusser con esto\n",
        "import argparse\n",
        "import io\n",
        "import requests\n",
        "import torch\n",
        "from omegaconf import OmegaConf\n",
        "from diffusers import AutoencoderKL\n",
        "from diffusers.pipelines.stable_diffusion.convert_from_ckpt import (\n",
        "    assign_to_checkpoint,\n",
        "    conv_attn_to_linear,\n",
        "    create_vae_diffusers_config,\n",
        "    renew_vae_attention_paths,\n",
        "    renew_vae_resnet_paths,\n",
        ")\n",
        "\n",
        "def custom_convert_ldm_vae_checkpoint(checkpoint, config):\n",
        "    vae_state_dict = checkpoint\n",
        "    new_checkpoint = {}\n",
        "    new_checkpoint[\"encoder.conv_in.weight\"] = vae_state_dict[\"encoder.conv_in.weight\"]\n",
        "    new_checkpoint[\"encoder.conv_in.bias\"] = vae_state_dict[\"encoder.conv_in.bias\"]\n",
        "    new_checkpoint[\"encoder.conv_out.weight\"] = vae_state_dict[\"encoder.conv_out.weight\"]\n",
        "    new_checkpoint[\"encoder.conv_out.bias\"] = vae_state_dict[\"encoder.conv_out.bias\"]\n",
        "    new_checkpoint[\"encoder.conv_norm_out.weight\"] = vae_state_dict[\"encoder.norm_out.weight\"]\n",
        "    new_checkpoint[\"encoder.conv_norm_out.bias\"] = vae_state_dict[\"encoder.norm_out.bias\"]\n",
        "    new_checkpoint[\"decoder.conv_in.weight\"] = vae_state_dict[\"decoder.conv_in.weight\"]\n",
        "    new_checkpoint[\"decoder.conv_in.bias\"] = vae_state_dict[\"decoder.conv_in.bias\"]\n",
        "    new_checkpoint[\"decoder.conv_out.weight\"] = vae_state_dict[\"decoder.conv_out.weight\"]\n",
        "    new_checkpoint[\"decoder.conv_out.bias\"] = vae_state_dict[\"decoder.conv_out.bias\"]\n",
        "    new_checkpoint[\"decoder.conv_norm_out.weight\"] = vae_state_dict[\"decoder.norm_out.weight\"]\n",
        "    new_checkpoint[\"decoder.conv_norm_out.bias\"] = vae_state_dict[\"decoder.norm_out.bias\"]\n",
        "    new_checkpoint[\"quant_conv.weight\"] = vae_state_dict[\"quant_conv.weight\"]\n",
        "    new_checkpoint[\"quant_conv.bias\"] = vae_state_dict[\"quant_conv.bias\"]\n",
        "    new_checkpoint[\"post_quant_conv.weight\"] = vae_state_dict[\"post_quant_conv.weight\"]\n",
        "    new_checkpoint[\"post_quant_conv.bias\"] = vae_state_dict[\"post_quant_conv.bias\"]\n",
        "    # Retrieves the keys for the encoder down blocks only\n",
        "    num_down_blocks = len({\".\".join(layer.split(\".\")[:3]) for layer in vae_state_dict if \"encoder.down\" in layer})\n",
        "    down_blocks = {\n",
        "        layer_id: [key for key in vae_state_dict if f\"down.{layer_id}\" in key] for layer_id in range(num_down_blocks)\n",
        "    }\n",
        "    # Retrieves the keys for the decoder up blocks only\n",
        "    num_up_blocks = len({\".\".join(layer.split(\".\")[:3]) for layer in vae_state_dict if \"decoder.up\" in layer})\n",
        "    up_blocks = {\n",
        "        layer_id: [key for key in vae_state_dict if f\"up.{layer_id}\" in key] for layer_id in range(num_up_blocks)\n",
        "    }\n",
        "    for i in range(num_down_blocks):\n",
        "        resnets = [key for key in down_blocks[i] if f\"down.{i}\" in key and f\"down.{i}.downsample\" not in key]\n",
        "        if f\"encoder.down.{i}.downsample.conv.weight\" in vae_state_dict:\n",
        "            new_checkpoint[f\"encoder.down_blocks.{i}.downsamplers.0.conv.weight\"] = vae_state_dict.pop(\n",
        "                f\"encoder.down.{i}.downsample.conv.weight\"\n",
        "            )\n",
        "            new_checkpoint[f\"encoder.down_blocks.{i}.downsamplers.0.conv.bias\"] = vae_state_dict.pop(\n",
        "                f\"encoder.down.{i}.downsample.conv.bias\"\n",
        "            )\n",
        "        paths = renew_vae_resnet_paths(resnets)\n",
        "        meta_path = {\"old\": f\"down.{i}.block\", \"new\": f\"down_blocks.{i}.resnets\"}\n",
        "        assign_to_checkpoint(paths, new_checkpoint, vae_state_dict, additional_replacements=[meta_path], config=config)\n",
        "    mid_resnets = [key for key in vae_state_dict if \"encoder.mid.block\" in key]\n",
        "    num_mid_res_blocks = 2\n",
        "    for i in range(1, num_mid_res_blocks + 1):\n",
        "        resnets = [key for key in mid_resnets if f\"encoder.mid.block_{i}\" in key]\n",
        "        paths = renew_vae_resnet_paths(resnets)\n",
        "        meta_path = {\"old\": f\"mid.block_{i}\", \"new\": f\"mid_block.resnets.{i - 1}\"}\n",
        "        assign_to_checkpoint(paths, new_checkpoint, vae_state_dict, additional_replacements=[meta_path], config=config)\n",
        "    mid_attentions = [key for key in vae_state_dict if \"encoder.mid.attn\" in key]\n",
        "    paths = renew_vae_attention_paths(mid_attentions)\n",
        "    meta_path = {\"old\": \"mid.attn_1\", \"new\": \"mid_block.attentions.0\"}\n",
        "    assign_to_checkpoint(paths, new_checkpoint, vae_state_dict, additional_replacements=[meta_path], config=config)\n",
        "    conv_attn_to_linear(new_checkpoint)\n",
        "    for i in range(num_up_blocks):\n",
        "        block_id = num_up_blocks - 1 - i\n",
        "        resnets = [\n",
        "            key for key in up_blocks[block_id] if f\"up.{block_id}\" in key and f\"up.{block_id}.upsample\" not in key\n",
        "        ]\n",
        "        if f\"decoder.up.{block_id}.upsample.conv.weight\" in vae_state_dict:\n",
        "            new_checkpoint[f\"decoder.up_blocks.{i}.upsamplers.0.conv.weight\"] = vae_state_dict[\n",
        "                f\"decoder.up.{block_id}.upsample.conv.weight\"\n",
        "            ]\n",
        "            new_checkpoint[f\"decoder.up_blocks.{i}.upsamplers.0.conv.bias\"] = vae_state_dict[\n",
        "                f\"decoder.up.{block_id}.upsample.conv.bias\"\n",
        "            ]\n",
        "        paths = renew_vae_resnet_paths(resnets)\n",
        "        meta_path = {\"old\": f\"up.{block_id}.block\", \"new\": f\"up_blocks.{i}.resnets\"}\n",
        "        assign_to_checkpoint(paths, new_checkpoint, vae_state_dict, additional_replacements=[meta_path], config=config)\n",
        "    mid_resnets = [key for key in vae_state_dict if \"decoder.mid.block\" in key]\n",
        "    num_mid_res_blocks = 2\n",
        "    for i in range(1, num_mid_res_blocks + 1):\n",
        "        resnets = [key for key in mid_resnets if f\"decoder.mid.block_{i}\" in key]\n",
        "        paths = renew_vae_resnet_paths(resnets)\n",
        "        meta_path = {\"old\": f\"mid.block_{i}\", \"new\": f\"mid_block.resnets.{i - 1}\"}\n",
        "        assign_to_checkpoint(paths, new_checkpoint, vae_state_dict, additional_replacements=[meta_path], config=config)\n",
        "    mid_attentions = [key for key in vae_state_dict if \"decoder.mid.attn\" in key]\n",
        "    paths = renew_vae_attention_paths(mid_attentions)\n",
        "    meta_path = {\"old\": \"mid.attn_1\", \"new\": \"mid_block.attentions.0\"}\n",
        "    assign_to_checkpoint(paths, new_checkpoint, vae_state_dict, additional_replacements=[meta_path], config=config)\n",
        "    conv_attn_to_linear(new_checkpoint)\n",
        "    return new_checkpoint\n",
        "def vae_pt_to_vae_diffuser(\n",
        "    checkpoint_path: str,\n",
        "    output_path: str,\n",
        "):\n",
        "    # Only support V1\n",
        "    r = requests.get(\n",
        "        \" https://raw.githubusercontent.com/CompVis/stable-diffusion/main/configs/stable-diffusion/v1-inference.yaml\"\n",
        "    )\n",
        "    io_obj = io.BytesIO(r.content)\n",
        "    original_config = OmegaConf.load(io_obj)\n",
        "    image_size = 512\n",
        "    device = \"cuda\" if torch.cuda.is_available() else \"cpu\"\n",
        "\n",
        "    if checkpoint_path.endswith(\"safetensors\"):\n",
        "        from safetensors import safe_open\n",
        "\n",
        "        checkpoint = {}\n",
        "        with safe_open(checkpoint_path, framework=\"pt\", device=\"cpu\") as f:\n",
        "            for key in f.keys():\n",
        "                checkpoint[key] = f.get_tensor(key)\n",
        "    else:\n",
        "        checkpoint = torch.load(checkpoint_path, map_location=device)[\"state_dict\"]\n",
        "\n",
        "    # Convert the VAE model.\n",
        "    vae_config = create_vae_diffusers_config(original_config, image_size=image_size)\n",
        "    converted_vae_checkpoint = custom_convert_ldm_vae_checkpoint(checkpoint, vae_config)\n",
        "\n",
        "    vae = AutoencoderKL(**vae_config)\n",
        "    vae.load_state_dict(converted_vae_checkpoint)\n",
        "    vae.save_pretrained(output_path)\n",
        "\n",
        "vae_pt_path =  '/content/vae_modelo.pt'\n",
        "dump_path =  '/content/modelo_diffuser.pt'\n",
        "\n",
        "vae_pt_to_vae_diffuser(vae_pt_path, dump_path)"
      ],
      "metadata": {
        "cellView": "form",
        "id": "Jsjsk5ApFv1k"
      },
      "execution_count": null,
      "outputs": []
    },
    {
      "cell_type": "code",
      "source": [
        "#@markdown ### 4️⃣  Y aca es donde comienza tu creatividad\n",
        "import os\n",
        "import torch\n",
        "from diffusers import AutoencoderKL\n",
        "from torch import nn\n",
        "\n",
        "# Definir los valores de los parámetros\n",
        "model_path = '/content/modelo_diffuser.pt'  # Ruta del modelo en Google Drive\n",
        "output_path = '/content/Finichio.pt'  # Ruta de salida del modelo modificado en Google Drive\n",
        "contrast = 0.5  # @param {type:\"number\"}\n",
        "#@markdown 'mul' para multiplicar, 'add' para agregar , si no pones esto salta error, asi que no la vas a cagar\n",
        "contrast_operation = 'mul'  #@param {type:\"string\"}\n",
        "brightness_operation = 'add'  #@param {type:\"string\"}\n",
        "brightness = 0  #@param {type:\"number\"}\n",
        "patch_encoder = True  #@param {type:\"boolean\"}\n",
        "\n",
        "print('Loading model...')\n",
        "vae = AutoencoderKL.from_pretrained(model_path, subfolder='vae', latent_channels=4)\n",
        "\n",
        "print('Applying modifications...')\n",
        "if contrast_operation == 'add':\n",
        "    vae.decoder.conv_out.weight = nn.Parameter(vae.decoder.conv_out.weight + contrast)\n",
        "    if patch_encoder:\n",
        "        vae.encoder.conv_in.weight = nn.Parameter(vae.encoder.conv_in.weight - contrast)\n",
        "elif contrast_operation == 'mul':\n",
        "    vae.decoder.conv_out.weight = nn.Parameter(vae.decoder.conv_out.weight * contrast)\n",
        "    if patch_encoder:\n",
        "        vae.encoder.conv_in.weight = nn.Parameter(vae.encoder.conv_in.weight / contrast)\n",
        "else:\n",
        "    raise ValueError('Invalid contrast operation')\n",
        "\n",
        "if brightness_operation == 'add':\n",
        "    vae.decoder.conv_out.bias = nn.Parameter(vae.decoder.conv_out.bias + brightness)\n",
        "    if patch_encoder:\n",
        "        vae.encoder.conv_in.bias = nn.Parameter(vae.encoder.conv_in.bias - brightness)\n",
        "elif brightness_operation == 'mul':\n",
        "    vae.decoder.conv_out.bias = nn.Parameter(vae.decoder.conv_out.bias * brightness)\n",
        "    if patch_encoder:\n",
        "        vae.encoder.conv_in.bias = nn.Parameter(vae.encoder.conv_in.bias / brightness)\n",
        "else:\n",
        "    raise ValueError('Invalid brightness operation')\n",
        "\n",
        "print('Saving...')\n",
        "torch.save(vae.state_dict(), output_path)\n",
        "\n",
        "print('Done!')\n"
      ],
      "metadata": {
        "cellView": "form",
        "id": "L3Gy91DqMKmM"
      },
      "execution_count": null,
      "outputs": []
    },
    {
      "cell_type": "code",
      "source": [
        "#@markdown ### 5️⃣ Descarga\n",
        "import os\n",
        "\n",
        "\n",
        "#@markdown Ruta del directorio de imágenes Ruta del directorio de imágenes\n",
        "directorio_imagenes = '/content/Finichio.pt'\n",
        "\n",
        "# Descarga el archivo zip\n",
        "from google.colab import files\n",
        "files.download(directorio_imagenes )"
      ],
      "metadata": {
        "cellView": "form",
        "id": "H_edsQIaJQVw"
      },
      "execution_count": null,
      "outputs": []
    },
    {
      "cell_type": "code",
      "source": [
        "#@markdown ### 5️⃣ Verificamos State Dict\n",
        "import torch\n",
        "\n",
        "file_path = '/content/Finichio.pt'\n",
        "# Función para obtener el tamaño del archivo en MB\n",
        "def get_file_size(file_path):\n",
        "    size_bytes = os.path.getsize(file_path)\n",
        "    size_mb = size_bytes / (1024 * 1024)\n",
        "    return size_mb\n",
        "device = torch.device(\"cuda\" if torch.cuda.is_available() else \"cpu\")\n",
        "model_0_size = get_file_size(file_path)\n",
        "print(f\"Tamaño del archivo: {model_0_size} MB\")\n",
        "try:\n",
        "    state_dict = torch.load(file_path, map_location=device)\n",
        "    print(\"Contenido parcial del state_dict:\")\n",
        "    print(\"-\" * 40)\n",
        "    print(\"Primeras claves y formas de tensor:\")\n",
        "    for key, value in list(state_dict.items())[:5]:\n",
        "        print(f\"Clave: {key}\")\n",
        "        print(f\"Forma del tensor: {value.shape}\")\n",
        "        print(\"-\" * 20)\n",
        "except Exception as ex:\n",
        "    print(f'ERROR al cargar el archivo .ckpt: {ex}')\n"
      ],
      "metadata": {
        "cellView": "form",
        "id": "pNhTnMkON-9R"
      },
      "execution_count": null,
      "outputs": []
    },
    {
      "cell_type": "code",
      "source": [
        "#@markdown ### 5️⃣ Mas informacion hacerca la parte importante\n",
        "print('Esta poronga se respala en la siguiente Documentacion: https://github.com/sALTaccount/VAE-BlessUp/blob/master/README.md')\n"
      ],
      "metadata": {
        "colab": {
          "base_uri": "https://localhost:8080/"
        },
        "cellView": "form",
        "id": "doHKtP3VO8TH",
        "outputId": "6fb8e9db-10b8-4648-ab15-b3ec8d6fcbc1"
      },
      "execution_count": 18,
      "outputs": [
        {
          "output_type": "stream",
          "name": "stdout",
          "text": [
            "Esta poronga se respala en la siguiente Documentacion: https://github.com/sALTaccount/VAE-BlessUp/blob/master/README.md\n"
          ]
        }
      ]
    }
  ]
}