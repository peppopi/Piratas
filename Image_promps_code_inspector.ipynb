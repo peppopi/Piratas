{
  "nbformat": 4,
  "nbformat_minor": 0,
  "metadata": {
    "colab": {
      "provenance": [],
      "authorship_tag": "ABX9TyMaKm8faxPTXBYCnqowv8aQ",
      "include_colab_link": true
    },
    "kernelspec": {
      "name": "python3",
      "display_name": "Python 3"
    },
    "language_info": {
      "name": "python"
    },
    "widgets": {
      "application/vnd.jupyter.widget-state+json": {
        "b8456e475dc5435a84b7cfb348fe4840": {
          "model_module": "@jupyter-widgets/controls",
          "model_name": "FileUploadModel",
          "model_module_version": "1.5.0",
          "state": {
            "_counter": 1,
            "_dom_classes": [],
            "_model_module": "@jupyter-widgets/controls",
            "_model_module_version": "1.5.0",
            "_model_name": "FileUploadModel",
            "_view_count": null,
            "_view_module": "@jupyter-widgets/controls",
            "_view_module_version": "1.5.0",
            "_view_name": "FileUploadView",
            "accept": "",
            "button_style": "",
            "data": [
              null
            ],
            "description": "Upload",
            "description_tooltip": null,
            "disabled": false,
            "error": "",
            "icon": "upload",
            "layout": "IPY_MODEL_6feee48ac72f429587134c394fbb101a",
            "metadata": [
              {
                "name": "00107-revAnimated_v122_2165112820.jpeg",
                "type": "image/jpeg",
                "size": 36123,
                "lastModified": 1688314853960
              }
            ],
            "multiple": false,
            "style": "IPY_MODEL_537e28bd62654fecbe768ec4b6edfc25"
          }
        },
        "6feee48ac72f429587134c394fbb101a": {
          "model_module": "@jupyter-widgets/base",
          "model_name": "LayoutModel",
          "model_module_version": "1.2.0",
          "state": {
            "_model_module": "@jupyter-widgets/base",
            "_model_module_version": "1.2.0",
            "_model_name": "LayoutModel",
            "_view_count": null,
            "_view_module": "@jupyter-widgets/base",
            "_view_module_version": "1.2.0",
            "_view_name": "LayoutView",
            "align_content": null,
            "align_items": null,
            "align_self": null,
            "border": null,
            "bottom": null,
            "display": null,
            "flex": null,
            "flex_flow": null,
            "grid_area": null,
            "grid_auto_columns": null,
            "grid_auto_flow": null,
            "grid_auto_rows": null,
            "grid_column": null,
            "grid_gap": null,
            "grid_row": null,
            "grid_template_areas": null,
            "grid_template_columns": null,
            "grid_template_rows": null,
            "height": null,
            "justify_content": null,
            "justify_items": null,
            "left": null,
            "margin": null,
            "max_height": null,
            "max_width": null,
            "min_height": null,
            "min_width": null,
            "object_fit": null,
            "object_position": null,
            "order": null,
            "overflow": null,
            "overflow_x": null,
            "overflow_y": null,
            "padding": null,
            "right": null,
            "top": null,
            "visibility": null,
            "width": null
          }
        },
        "537e28bd62654fecbe768ec4b6edfc25": {
          "model_module": "@jupyter-widgets/controls",
          "model_name": "ButtonStyleModel",
          "model_module_version": "1.5.0",
          "state": {
            "_model_module": "@jupyter-widgets/controls",
            "_model_module_version": "1.5.0",
            "_model_name": "ButtonStyleModel",
            "_view_count": null,
            "_view_module": "@jupyter-widgets/base",
            "_view_module_version": "1.2.0",
            "_view_name": "StyleView",
            "button_color": null,
            "font_weight": ""
          }
        }
      }
    }
  },
  "cells": [
    {
      "cell_type": "markdown",
      "metadata": {
        "id": "view-in-github",
        "colab_type": "text"
      },
      "source": [
        "<a href=\"https://colab.research.google.com/github/peppopi/Piratas/blob/main/Image_promps_code_inspector.ipynb\" target=\"_parent\"><img src=\"https://colab.research.google.com/assets/colab-badge.svg\" alt=\"Open In Colab\"/></a>"
      ]
    },
    {
      "cell_type": "code",
      "execution_count": null,
      "metadata": {
        "colab": {
          "base_uri": "https://localhost:8080/",
          "height": 121,
          "referenced_widgets": [
            "b8456e475dc5435a84b7cfb348fe4840",
            "6feee48ac72f429587134c394fbb101a",
            "537e28bd62654fecbe768ec4b6edfc25"
          ]
        },
        "cellView": "form",
        "id": "5rmXqzsCDcVW",
        "outputId": "4059752f-58d6-484a-85e3-62524955e199"
      },
      "outputs": [
        {
          "output_type": "stream",
          "name": "stdout",
          "text": [
            "Recuerda que subir la imagen tarda un rato considerable, si la imagen pesa mas un 1mg\n"
          ]
        },
        {
          "output_type": "display_data",
          "data": {
            "text/plain": [
              "FileUpload(value={}, description='Upload')"
            ],
            "application/vnd.jupyter.widget-view+json": {
              "version_major": 2,
              "version_minor": 0,
              "model_id": "b8456e475dc5435a84b7cfb348fe4840"
            }
          },
          "metadata": {}
        },
        {
          "output_type": "stream",
          "name": "stdout",
          "text": [
            " Aca deberias poder ver los tags: Si no ves nada es que tu imagen no guarda tags en su codigo fuente\n",
            "JFIFExifIIi,UNICODEsylveon,animal focus,cute,nigth,grass,flowers,  <lora:Sylveon:075>Negative prompt:  EasyNegativeV2, badhands5, badartist,pussySteps: 20, Sampler: DPM 2M Karras, CFG scale: 7, Seed: 2165112820, Size: 512x720, Model: revAnimatedv122, Clip skip: 2, Lora hashes: Sylveon: ab5ca6dd0bde, Version: v1\n"
          ]
        }
      ],
      "source": [
        "#@markdown Solo dale clik, no necesita conectarse a google drive, al ejecutar el codigo se te dara la opcion para subir imagenes, puedes subir las  que quieras y a meddia que se suban al entorno de ejecucion las imagenes se iran procesando.\n",
        "#@markdown\n",
        "#@markdown El Limite funciona para hacer mas rapido el codigo y no muestra tanta basura como valor de limite pongamos, ajustalo en funcion de la cantidad de tags que necesites ver, entre 500 y 4000, lograras ver una imagen con mas de 40 tags, asi que es exagerar ponerlo muy alto.\n",
        "import ipywidgets as widgets\n",
        "from IPython.display import display\n",
        "from PIL import Image\n",
        "import io\n",
        "import re\n",
        "print('Recuerda que subir la imagen tarda un rato considerable, si la imagen pesa mas un 1mg')\n",
        "def eliminar_caracteres_invalidos(texto):\n",
        "    texto_limpio = re.sub(r'[^a-zA-Z0-9,:<> ]', '', texto)\n",
        "    return texto_limpio\n",
        "\n",
        "def extraer_primeros_500_bytes(imagen_bytes):\n",
        "    Limite = 700 #@param {type:\"slider\", min:500, max:25000, step:100}\n",
        "    primeros_500_bytes = imagen_bytes[:Limite]  # Limitar a los primeros 500 bytes\n",
        "    try:\n",
        "        texto_sin_caracter = eliminar_caracteres_invalidos(primeros_500_bytes.decode('utf-8'))\n",
        "    except UnicodeDecodeError:\n",
        "        texto_sin_caracter = eliminar_caracteres_invalidos(primeros_500_bytes.decode('latin-1'))\n",
        "    return texto_sin_caracter\n",
        "\n",
        "def cargar_imagen(change):\n",
        "    archivo = change['new']\n",
        "    if archivo:\n",
        "        imagen_bytes = archivo[list(archivo.keys())[0]]['content']\n",
        "        datos_extraidos = extraer_primeros_500_bytes(imagen_bytes)\n",
        "        print(datos_extraidos)\n",
        "\n",
        "# Crear widget de selección de archivo\n",
        "selector_archivo = widgets.FileUpload()\n",
        "selector_archivo.observe(cargar_imagen, names='value')\n",
        "\n",
        "# Mostrar el widget de selección de archivo\n",
        "display(selector_archivo)\n",
        "print(' Aca deberias poder ver los tags: Si no ves nada es que tu imagen no guarda tags en su codigo fuente')"
      ]
    },
    {
      "cell_type": "code",
      "source": [
        "#@markdown Los siguientes dos codigos requiern que inicies el Drive y solo pueden procesar imagenes no subidas a internet.\n",
        "from google.colab import drive\n",
        "drive.mount('/content/drive')"
      ],
      "metadata": {
        "cellView": "form",
        "id": "tbC1dHmfEK3S"
      },
      "execution_count": null,
      "outputs": []
    },
    {
      "cell_type": "code",
      "source": [
        "import re\n",
        "import time\n",
        "\n",
        "\n",
        "#@markdown Analiza una sola imagen a la vez, pon el link de tu imagen\n",
        "\n",
        "\n",
        "ruta_imagen = \"/content/drive/MyDrive/Dataset/Copia/00000-revAnimated_v122_3458838191.png\"#@param {type:\"string\"}\n",
        "\n",
        "#@markdown Ejem: /content/drive/MyDrive/Dataset/Copia/00000-revAnimated_v122_3458838191.png\n",
        "# Ruta del archivo de imagen\n",
        "with open(ruta_imagen, \"rb\") as archivo:\n",
        "    datos_imagen = archivo.read()\n",
        "\n",
        "# Decodificar los datos de la imagen en diferentes codecs\n",
        "codecs_a_probar = [\"utf-8\", \"latin-1\", \"iso-8859-1\"]\n",
        "\n",
        "texto_imagen = None\n",
        "\n",
        "for codec in codecs_a_probar:\n",
        "    try:\n",
        "        texto_imagen = datos_imagen.decode(codec)\n",
        "        break\n",
        "    except UnicodeDecodeError:\n",
        "        continue\n",
        "\n",
        "if texto_imagen:\n",
        "    # Definir el patrón de expresión regular para extraer el fragmento de texto\n",
        "    patron = r\".*?(?<=Xtparameters).*?(?=Clip skip: \\d+)\"\n",
        "\n",
        "    # Buscar el fragmento de texto utilizando la expresión regular\n",
        "    resultado = re.search(patron, texto_imagen, re.DOTALL)\n",
        "\n",
        "    if resultado:\n",
        "        fragmento_texto = resultado.group().strip()\n",
        "    else:\n",
        "        print()\n",
        "        fragmento_texto = \"No se encontró el fragmento de texto no se encontro : Tu imagen no guarda ningun Tag\"\n",
        "else:\n",
        "    fragmento_texto = \"No se pudo decodificar los datos de la imagen\"\n",
        "\n",
        "# Función para obtener el texto después de \"PtEXtparameters\" y reemplazar el carácter \"�\"\n",
        "def obtener_texto_despues(fragmento_texto):\n",
        "    texto_despues = \"\"\n",
        "    indice_ptex = fragmento_texto.find(\"PtEXtparameters\") + len(\"PtEXtparameters\")\n",
        "    texto_despues = fragmento_texto[indice_ptex:].replace(\"�\", \" Promps:\")\n",
        "    return texto_despues\n",
        "\n",
        "# Obtener el texto después de \"PtEXtparameters\" y reemplazar el carácter \"�\"\n",
        "texto_despues = obtener_texto_despues(fragmento_texto)\n",
        "\n",
        "# Imprimir el resultado si el tiempo de procesamiento es menor a 15 segundos\n",
        "tiempo_inicio = time.time()\n",
        "\n",
        "if (time.time() - tiempo_inicio) <= 15:\n",
        "    print(texto_despues)\n",
        "else:\n",
        "    print(\"El procesamiento de la imagen ha excedido los 15 segundos: Tu imagen no tiene tags\")"
      ],
      "metadata": {
        "cellView": "form",
        "id": "J00qNfSzEFh_"
      },
      "execution_count": null,
      "outputs": []
    },
    {
      "cell_type": "code",
      "source": [
        "import os\n",
        "import re\n",
        "import time\n",
        "#@markdown Por carpetas\n",
        "# Ruta de la carpeta con las imágenes\n",
        "ruta_carpeta = \"/content/drive/MyDrive/Dataset/Copia\"#@param {type:\"string\"}\n",
        "\n",
        "#@markdown Ejem: /content/drive/MyDrive/Dataset/Copia/\n",
        "#@markdown\n",
        "#@markdown Si el inico del Patron no esta en los primeros mil caracteres el codigo considerara que no hay tags, por el momento simpre el texto se pone justo al comienso por lo que es medio una exageracion poner mil caracteres si  queres hacerlo mas rapido bajalos a 100, en ese caso procearas mil imagenes en unos segundos.\n",
        "archivos = os.listdir(ruta_carpeta)\n",
        "\n",
        "# Límite de tiempo en segundos\n",
        "limite_tiempo = 5\n",
        "\n",
        "# Iterar sobre cada archivo en la carpeta\n",
        "for archivo in archivos:\n",
        "    # Verificar si el archivo es una imagen (png o jpg)\n",
        "    if archivo.endswith(\".png\") or archivo.endswith(\".jpg\"):\n",
        "        # Ruta completa del archivo de imagen\n",
        "        ruta_imagen = os.path.join(ruta_carpeta, archivo)\n",
        "\n",
        "        # Leer el archivo de imagen en modo binario\n",
        "        with open(ruta_imagen, \"rb\") as archivo_imagen:\n",
        "            datos_imagen = archivo_imagen.read()\n",
        "\n",
        "        # Decodificar los datos de la imagen en diferentes codecs\n",
        "        codecs_a_probar = [\"utf-8\", \"latin-1\", \"iso-8859-1\"]\n",
        "\n",
        "        texto_imagen = None\n",
        "\n",
        "        tiempo_inicio = time.time()\n",
        "\n",
        "        for codec in codecs_a_probar:\n",
        "            try:\n",
        "                texto_imagen = datos_imagen.decode(codec)\n",
        "                break\n",
        "            except UnicodeDecodeError:\n",
        "                continue\n",
        "\n",
        "            # Verificar si ha excedido el límite de tiempo\n",
        "            if time.time() - tiempo_inicio >= limite_tiempo:\n",
        "                print(\"Error: El procesamiento de la imagen ha excedido los 5 segundos.\")\n",
        "                break\n",
        "\n",
        "        if texto_imagen:\n",
        "            # Verificar si el inicio del patrón se encuentra en los primeros mil caracteres\n",
        "            if not texto_imagen[:1000].find(\"Xtparameters\") != -1:\n",
        "                print(\"Error: El inicio del patrón no se encuentra en los primeros mil caracteres.\")\n",
        "                continue\n",
        "\n",
        "            # Definir el patrón de expresión regular para extraer el fragmento de texto\n",
        "            patron = r\".*?(?<=Xtparameters).*?(?=Clip skip: \\d+)\"\n",
        "\n",
        "            # Buscar el fragmento de texto utilizando la expresión regular\n",
        "            resultado = re.search(patron, texto_imagen, re.DOTALL)\n",
        "\n",
        "            if resultado:\n",
        "                fragmento_texto = resultado.group().strip()\n",
        "            else:\n",
        "                fragmento_texto = \"No se encontró el fragmento de texto\"\n",
        "        else:\n",
        "            fragmento_texto = \"No se pudo decodificar los datos de la imagen\"\n",
        "\n",
        "        # Función para obtener el texto después de \"PtEXtparameters\" y reemplazar el carácter \"�\"\n",
        "        def obtener_texto_despues(fragmento_texto):\n",
        "            texto_despues = \"\"\n",
        "            indice_ptex = fragmento_texto.find(\"PtEXtparameters\") + len(\"PtEXtparameters\")\n",
        "            texto_despues = fragmento_texto[indice_ptex:].replace(\"�\", \" Promps:\")\n",
        "            return texto_despues\n",
        "\n",
        "        # Obtener el texto después de \"PtEXtparameters\" y reemplazar el carácter \"�\"\n",
        "        texto_despues = obtener_texto_despues(fragmento_texto)\n",
        "\n",
        "        # Imprimir el resultado con el nombre del archivo\n",
        "        print(\"Archivo:\", archivo)\n",
        "        print(texto_despues)\n",
        "        print()\n"
      ],
      "metadata": {
        "cellView": "form",
        "id": "GyNk1AjED5ug"
      },
      "execution_count": null,
      "outputs": []
    }
  ]
}