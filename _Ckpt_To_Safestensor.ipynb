{
  "nbformat": 4,
  "nbformat_minor": 0,
  "metadata": {
    "colab": {
      "provenance": [],
      "gpuType": "T4",
      "authorship_tag": "ABX9TyMlTk2wqX5V0qpe+dWVyl1l",
      "include_colab_link": true
    },
    "kernelspec": {
      "name": "python3",
      "display_name": "Python 3"
    },
    "language_info": {
      "name": "python"
    },
    "accelerator": "GPU"
  },
  "cells": [
    {
      "cell_type": "markdown",
      "metadata": {
        "id": "view-in-github",
        "colab_type": "text"
      },
      "source": [
        "<a href=\"https://colab.research.google.com/github/peppopi/Piratas/blob/main/_Ckpt_To_Safestensor.ipynb\" target=\"_parent\"><img src=\"https://colab.research.google.com/assets/colab-badge.svg\" alt=\"Open In Colab\"/></a>"
      ]
    },
    {
      "cell_type": "code",
      "source": [
        "#@markdown ### 5️⃣ Dependencias\n",
        "!pip install safetensors\n",
        "!pip install pytorch_lightning\n",
        "!pip install torch torchsde==0.2.5 safetensors==0.2.5"
      ],
      "metadata": {
        "cellView": "form",
        "id": "6DX4NslV2DO5"
      },
      "execution_count": null,
      "outputs": []
    },
    {
      "cell_type": "code",
      "source": [
        "#@markdown ### 5️⃣ Descarga el modelo a convertir\n",
        "import requests\n",
        "from tqdm import tqdm\n",
        "\n",
        "# URL del archivo que deseas descargar\n",
        "url = \"https://huggingface.co/runwayml/stable-diffusion-v1-5/resolve/main/v1-5-pruned-emaonly.ckpt\"  #@param {type:\"string\"}\n",
        "# Nombre del archivo en tu entorno de ejecución\n",
        "nombre_archivo = \"Nomana.ckpt\"\n",
        "\n",
        "# Descargar el archivo con barra de progreso\n",
        "response = requests.get(url, stream=True)\n",
        "total_size = int(response.headers.get(\"content-length\", 0))\n",
        "\n",
        "# Guardar el archivo en tu entorno de ejecución con barra de progreso\n",
        "with open(nombre_archivo, \"wb\") as archivo:\n",
        "    progress_bar = tqdm(total=total_size, unit=\"B\", unit_scale=True)\n",
        "    for data in response.iter_content(chunk_size=4096):\n",
        "        archivo.write(data)\n",
        "        progress_bar.update(len(data))\n",
        "    progress_bar.close()\n",
        "url = \"https://huggingface.co/a1079602570/animefull-final-pruned/resolve/main/model-001.ckpt\""
      ],
      "metadata": {
        "colab": {
          "base_uri": "https://localhost:8080/"
        },
        "cellView": "form",
        "id": "GhZTwPvt2poe",
        "outputId": "92be695b-8a23-47c4-8db3-d2d2b59152ae"
      },
      "execution_count": null,
      "outputs": [
        {
          "output_type": "stream",
          "name": "stderr",
          "text": [
            "100%|██████████| 4.27G/4.27G [00:46<00:00, 91.5MB/s]\n"
          ]
        }
      ]
    },
    {
      "cell_type": "code",
      "source": [
        "#@markdown ### 5️⃣ Tranforma el modelo a convertir\n",
        "import os\n",
        "import torch\n",
        "from safetensors.torch import save_file\n",
        "\n",
        "file_path = '/content/Nomana.ckpt' #@param {type:\"string\"}\n",
        "\n",
        "device = torch.device(\"cuda\" if torch.cuda.is_available() else \"cpu\")\n",
        "\n",
        "if not os.path.isfile(file_path):\n",
        "    print(\"El archivo no existe.\")\n",
        "else:\n",
        "    if file_path.lower().endswith('.ckpt'):\n",
        "        print(f'Loading {file_path}..si notas que comenzo el consumo ram, entonces el codigo esta andando, el proceso demora 2 minutos sin gpu y 1 minuto en entornos con gpu (Test: 4 - Gigas)')\n",
        "        fn = f\"{file_path.replace('.ckpt', '')}.safetensors\"\n",
        "\n",
        "        if os.path.isfile(fn):\n",
        "            print(f'Skipping, as {fn} already exists.')\n",
        "        else:\n",
        "            try:\n",
        "                with torch.no_grad():\n",
        "                    weights = torch.load(file_path, map_location=device)[\"state_dict\"]\n",
        "                    print(f'Saving {fn}...')\n",
        "                    save_file(weights, fn)\n",
        "            except Exception as ex:\n",
        "                print(f'ERROR converting {file_path}: {ex}')\n",
        "    else:\n",
        "        print(\"El archivo no es un archivo .ckpt.\")\n",
        "\n",
        "print('Terminaste')\n",
        "\n",
        "\n",
        "\n"
      ],
      "metadata": {
        "colab": {
          "base_uri": "https://localhost:8080/"
        },
        "cellView": "form",
        "id": "T1hU79ZOAR1b",
        "outputId": "c9c832ef-b518-4299-bf68-41d4d05ef029"
      },
      "execution_count": null,
      "outputs": [
        {
          "output_type": "stream",
          "name": "stdout",
          "text": [
            "Loading /content/Nomana.ckpt..si notas que comenzo el consumo ram, entonces el codigo esta andando, el proceso demora 2 minutos\n",
            "Saving /content/Nomana.safetensors...\n",
            "Terminaste\n"
          ]
        }
      ]
    },
    {
      "cell_type": "code",
      "source": [
        "#@markdown ### 5️⃣ Descarge el modelo convertido\n",
        "from google.colab import files\n",
        "\n",
        "# Nombre del archivo generado en la celda anterior\n",
        "safetensor_file = \"/content/Nomana.safetensors\" #@param {type:\"string\"}\n",
        "\n",
        "# Descargar el archivo\n",
        "files.download(safetensor_file)"
      ],
      "metadata": {
        "cellView": "form",
        "id": "gCCwPgd1PRIc"
      },
      "execution_count": null,
      "outputs": []
    },
    {
      "cell_type": "code",
      "source": [],
      "metadata": {
        "id": "ZOA84AWScIaX"
      },
      "execution_count": null,
      "outputs": []
    }
  ]
}