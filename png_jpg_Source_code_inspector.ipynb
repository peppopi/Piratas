{
  "nbformat": 4,
  "nbformat_minor": 0,
  "metadata": {
    "colab": {
      "provenance": [],
      "authorship_tag": "ABX9TyO+H3wD6HiUyPmLB3hO0wEg",
      "include_colab_link": true
    },
    "kernelspec": {
      "name": "python3",
      "display_name": "Python 3"
    },
    "language_info": {
      "name": "python"
    }
  },
  "cells": [
    {
      "cell_type": "markdown",
      "metadata": {
        "id": "view-in-github",
        "colab_type": "text"
      },
      "source": [
        "<a href=\"https://colab.research.google.com/github/peppopi/Piratas/blob/main/png_jpg_Source_code_inspector.ipynb\" target=\"_parent\"><img src=\"https://colab.research.google.com/assets/colab-badge.svg\" alt=\"Open In Colab\"/></a>"
      ]
    },
    {
      "cell_type": "code",
      "execution_count": null,
      "metadata": {
        "cellView": "form",
        "id": "eBvorXAj9LbV"
      },
      "outputs": [],
      "source": [
        "import re\n",
        "from google.colab import files\n",
        "import ipywidgets as widgets\n",
        "\n",
        "#@markdown Click to upload images. No need to connect to Google Drive. The code will prompt you to upload images, and as they are uploaded, they will be processed in the execution environment.\n",
        "#@markdown\n",
        "#@markdown The 'Limit' variable is used to make the code faster and reduce clutter. Adjust it based on the number of tags you need to see, between 500 and 4000. You will be able to see an image with more than 40 tags, so there's no need to set it too high.\n",
        "\n",
        "\n",
        "def remove_invalid_characters(text):\n",
        "    cleaned_text = re.sub(r'[^a-zA-Z0-9,:<> ]', '', text)\n",
        "    return cleaned_text\n",
        "\n",
        "def extract_first_500_bytes(image_bytes):\n",
        "    Limit = 700 #@param {type:\"slider\", min:500, max:25000, step:100}\n",
        "    first_500_bytes = image_bytes[:Limit]  # Limitar a los primeros 500 bytes\n",
        "    try:\n",
        "        text_without_chars = remove_invalid_characters(first_500_bytes.decode('utf-8'))\n",
        "    except UnicodeDecodeError:\n",
        "        text_without_chars = remove_invalid_characters(first_500_bytes.decode('latin-1'))\n",
        "    return text_without_chars\n",
        "\n",
        "# Función para subir archivos a Colab\n",
        "def upload_files():\n",
        "    files = files.upload()\n",
        "    return files\n",
        "\n",
        "# Código principal\n",
        "files = upload_files()\n",
        "for file_name, file_content in files.items():\n",
        "    image_bytes = file_content\n",
        "    text_without_chars = extract_first_500_bytes(image_bytes)\n",
        "    print(f\"Texto sin caracteres inválidos en {file_name}:\")\n",
        "    print(text_without_chars)\n"
      ]
    }
  ]
}