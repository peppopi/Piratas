{
  "nbformat": 4,
  "nbformat_minor": 0,
  "metadata": {
    "colab": {
      "provenance": [],
      "gpuType": "T4",
      "authorship_tag": "ABX9TyObRL2rt6nWaAmb4n2fAUke",
      "include_colab_link": true
    },
    "kernelspec": {
      "name": "python3",
      "display_name": "Python 3"
    },
    "language_info": {
      "name": "python"
    }
  },
  "cells": [
    {
      "cell_type": "markdown",
      "metadata": {
        "id": "view-in-github",
        "colab_type": "text"
      },
      "source": [
        "<a href=\"https://colab.research.google.com/github/peppopi/Piratas/blob/main/_Safestensor_To_Ckpt_V1.ipynb\" target=\"_parent\"><img src=\"https://colab.research.google.com/assets/colab-badge.svg\" alt=\"Open In Colab\"/></a>"
      ]
    },
    {
      "cell_type": "code",
      "source": [
        "#@markdown ### 5️⃣ Dependencias\n",
        "!pip install safetensors"
      ],
      "metadata": {
        "id": "Tt4TOQS_Cizb",
        "cellView": "form"
      },
      "execution_count": null,
      "outputs": []
    },
    {
      "cell_type": "code",
      "source": [
        "#@markdown ### 5️⃣ Descarga desde dos url\n",
        "from tqdm import tqdm\n",
        "import requests\n",
        "\n",
        "def descargar_archivo(url, nombre_archivo):\n",
        "    # Descargar el archivo con barra de progreso\n",
        "    response = requests.get(url, stream=True)\n",
        "    total_size = int(response.headers.get(\"content-length\", 0))\n",
        "\n",
        "    # Guardar el archivo en tu entorno de ejecución con barra de progreso\n",
        "    with open(nombre_archivo, \"wb\") as archivo:\n",
        "        progress_bar = tqdm(total=total_size, unit=\"B\", unit_scale=True)\n",
        "        for data in response.iter_content(chunk_size=4096):\n",
        "            archivo.write(data)\n",
        "            progress_bar.update(len(data))\n",
        "        progress_bar.close()\n",
        "\n",
        "# URL del primer archivo que deseas descargar\n",
        "url1 = \"https://civitai.com/api/download/models/15236\"  #@param {type:\"string\"}\n",
        "# Nombre del primer archivo en tu entorno de ejecución\n",
        "nombre_archivo1 = \"Nomana.safetensors\"\n",
        "\n",
        "# Descargar el primer archivo\n",
        "descargar_archivo(url1, nombre_archivo1)\n",
        "\n",
        "# URL del segundo archivo que deseas descargar\n",
        "url2 = \"https://civitai.com/api/download/models/17233\"   #@param {type:\"string\"}\n",
        "# Nombre del segundo archivo en tu entorno de ejecución\n",
        "nombre_archivo2 = \"archivo2.safetensors\"\n",
        "\n",
        "# Descargar el segundo archivo\n",
        "descargar_archivo(url2, nombre_archivo2)\n"
      ],
      "metadata": {
        "cellView": "form",
        "id": "0aGFHym_Etb-"
      },
      "execution_count": null,
      "outputs": []
    },
    {
      "cell_type": "code",
      "source": [
        "#@markdown ### 5️⃣ Tranforma el modelo de .safestensor a .ckpt\n",
        "import os\n",
        "import torch\n",
        "from safetensors.torch import load_file\n",
        "\n",
        "file_path = '/content/Nomana.safetensors' #@param {type:\"string\"}\n",
        "\n",
        "if not os.path.isfile(file_path):\n",
        "    print(\"El archivo no existe.\")\n",
        "else:\n",
        "    if file_path.lower().endswith('.safetensors'):\n",
        "        print(f'Loading {file_path}...')\n",
        "        fn = f\"{file_path.replace('.safetensors', '')}.ckpt\"\n",
        "\n",
        "        if os.path.isfile(fn):\n",
        "            print(f'Skipping, as {fn} already exists.')\n",
        "        else:\n",
        "            try:\n",
        "                tensors = load_file(file_path)\n",
        "                print(f'Tensors loaded successfully.')\n",
        "\n",
        "                # Aquí puedes realizar operaciones con los tensores cargados\n",
        "\n",
        "                # Guardar los tensores en un archivo .ckpt\n",
        "                state_dict = {key: tensor for key, tensor in tensors.items()}\n",
        "                print(f'Saving {fn}...')\n",
        "                torch.save(state_dict, fn)\n",
        "            except Exception as ex:\n",
        "                print(f'ERROR converting {file_path}: {ex}')\n",
        "    else:\n",
        "        print(\"El archivo no es un archivo .safetensors.\")\n",
        "\n",
        "print('Terminaste')\n",
        "\n"
      ],
      "metadata": {
        "cellView": "form",
        "id": "kC7Kugq6x7W7"
      },
      "execution_count": null,
      "outputs": []
    },
    {
      "cell_type": "code",
      "source": [
        "#@markdown ### 5️⃣ Verificamos State Dict\n",
        "import torch\n",
        "\n",
        "file_path = '/content/Nomana.ckpt' #@param {type:\"string\"}\n",
        "\n",
        "device = torch.device(\"cuda\" if torch.cuda.is_available() else \"cpu\")\n",
        "\n",
        "try:\n",
        "    state_dict = torch.load(file_path, map_location=device)\n",
        "    print(\"Contenido parcial del state_dict:\")\n",
        "    print(\"-\" * 40)\n",
        "    print(\"Primeras claves y formas de tensor:\")\n",
        "    for key, value in list(state_dict.items())[:5]:\n",
        "        print(f\"Clave: {key}\")\n",
        "        print(f\"Forma del tensor: {value.shape}\")\n",
        "        print(\"-\" * 20)\n",
        "except Exception as ex:\n",
        "    print(f'ERROR al cargar el archivo .ckpt: {ex}')\n"
      ],
      "metadata": {
        "cellView": "form",
        "id": "otTmEZD8_z23"
      },
      "execution_count": null,
      "outputs": []
    },
    {
      "cell_type": "code",
      "source": [
        "#@markdown ### 5️⃣ Verificamos los tensores para garantizar la convercion\n",
        "import torch\n",
        "\n",
        "file_path = '/content/Nomana.ckpt' #@param {type:\"string\"}\n",
        "\n",
        "device = torch.device(\"cuda\" if torch.cuda.is_available() else \"cpu\")\n",
        "\n",
        "try:\n",
        "    checkpoint = torch.load(file_path, map_location=device)\n",
        "    print(\"Contenidos del archivo .ckpt:\")\n",
        "    print(\"-\" * 40)\n",
        "    print(\"Parámetros disponibles:\")\n",
        "    for key in checkpoint.keys():\n",
        "        print(key)\n",
        "    print(\"-\" * 40)\n",
        "    print(\"Información de cada parámetro:\")\n",
        "    for key, value in checkpoint.items():\n",
        "        print(f\"Parámetro: {key}\")\n",
        "        print(f\"Tipo del valor: {type(value)}\")\n",
        "        print(f\"Forma del tensor: {value.shape}\")\n",
        "        print(f\"Dispositivo del tensor: {value.device}\")\n",
        "        print(\"-\" * 20)\n",
        "except Exception as ex:\n",
        "    print(f'ERROR al cargar el archivo .ckpt: {ex}')\n"
      ],
      "metadata": {
        "cellView": "form",
        "id": "f2bLJRE_1zL3"
      },
      "execution_count": null,
      "outputs": []
    }
  ]
}