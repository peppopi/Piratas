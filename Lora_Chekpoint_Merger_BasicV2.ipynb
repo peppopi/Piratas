{
  "nbformat": 4,
  "nbformat_minor": 0,
  "metadata": {
    "colab": {
      "provenance": [],
      "authorship_tag": "ABX9TyN7WmzsryrLcW87+N91mvlr",
      "include_colab_link": true
    },
    "kernelspec": {
      "name": "python3",
      "display_name": "Python 3"
    },
    "language_info": {
      "name": "python"
    }
  },
  "cells": [
    {
      "cell_type": "markdown",
      "metadata": {
        "id": "view-in-github",
        "colab_type": "text"
      },
      "source": [
        "<a href=\"https://colab.research.google.com/github/peppopi/Piratas/blob/main/Lora_Chekpoint_Merger_BasicV2.ipynb\" target=\"_parent\"><img src=\"https://colab.research.google.com/assets/colab-badge.svg\" alt=\"Open In Colab\"/></a>"
      ]
    },
    {
      "cell_type": "code",
      "source": [
        "#@markdown Aca se Pone el Link del Modelo Base Usar, se recomienda ir poniendo varios, se sovrescribe automaticamente\n",
        "import os\n",
        "import requests\n",
        "from tqdm import tqdm\n",
        "\n",
        "ruta_carpeta = \"/content/models/\"\n",
        "\n",
        "def descargar_archivo(url, ruta_carpeta, nombre_archivo):\n",
        "    if not os.path.exists(ruta_carpeta):\n",
        "        os.makedirs(ruta_carpeta)\n",
        "\n",
        "    ruta_completa_archivo = os.path.join(ruta_carpeta, nombre_archivo)\n",
        "\n",
        "    response = requests.get(url, stream=True)\n",
        "    total_size = int(response.headers.get(\"content-length\", 0))\n",
        "\n",
        "    with open(ruta_completa_archivo, \"wb\") as archivo:\n",
        "        progress_bar = tqdm(total=total_size, unit=\"B\", unit_scale=True)\n",
        "        for data in response.iter_content(chunk_size=4096):\n",
        "            archivo.write(data)\n",
        "            progress_bar.update(len(data))\n",
        "        progress_bar.close()\n",
        "\n",
        "# URL del archivo que deseas descargar\n",
        "url = \"https://civitai.com/api/download/models/15236\" #@param {type:\"string\"}\n",
        "# Nombre del archivo en tu entorno de ejecución\n",
        "nombre_archivo = \"Nomana.safetensors\"\n",
        "\n",
        "# Descargar el archivo\n",
        "descargar_archivo(url, ruta_carpeta, nombre_archivo)\n",
        "\n"
      ],
      "metadata": {
        "cellView": "form",
        "id": "1e55KZ-O70dA"
      },
      "execution_count": null,
      "outputs": []
    },
    {
      "cell_type": "code",
      "source": [
        "#Se descargan dependencias:\n",
        "!git clone https://github.com/kohya-ss/sd-scripts.git\n",
        "!cd /content/sd-scripts && pip install -r requirements.txt\n",
        "\n",
        "\n",
        "#Se descargan los Loras:\n",
        "!wget https://civitai.com/api/download/models/47143 -O ArchivoUNO.safetensors\n",
        "!wget https://civitai.com/api/download/models/90716 -O ArchivoDOS.safetensors\n",
        "!wget https://civitai.com/api/download/models/52086 -O ArchivoTRES.safetensors\n",
        "!wget https://civitai.com/api/download/models/55777 -O ArchivoCUATRO.safetensors\n",
        "#Formato\n",
        "# !wget [LINK] -O [Nombre De Archivo].safetensors (NO hace falta poner el verdaero, es inventado)"
      ],
      "metadata": {
        "id": "eXIeGCIn8Hfg"
      },
      "execution_count": null,
      "outputs": []
    },
    {
      "cell_type": "code",
      "source": [
        "# Crea el Chekpoint, es decir hace el mergin y combina los Loras con un modelo\n",
        "!python sd-scripts/networks/merge_lora.py \\\n",
        "--sd_model /content/models/Nomana.safetensors \\\n",
        "--save_to /content/Gato.safetensors \\\n",
        "--models \\\n",
        "    /content/ArchivoUNO.safetensors \\\n",
        "    /content/ArchivoDOS.safetensors \\\n",
        "    /content/ArchivoTRES.safetensors \\\n",
        "    /content/ArchivoCUATRO.safetensors \\\n",
        "--ratios 1 1 1 1\n",
        "\n",
        "#Simpre sera Nomana.safetensors el Modelo, pero recorda que si o si el modelo debe tener VAE para usarlo aca, sino da error.\n",
        "#Donde se guardara\n",
        "#Donde se guardara\n",
        "#Aca van los nombres de los LORAS\n",
        "#Aca pones que tanto se pondera cada Lora, un 1 es ponderar todo, un 0.5 es ponderar la mitad, un 0.25 es ponderar un cuarto del LORA\n",
        "\n",
        "#Para agregar un Lora hay que seguir la siguiente regla\n",
        "#Se agrega un NUMERO en el --ratios POR LORA ==> 5 LORAS, 5 NUMEROS RATIOS ==> --ratios 1 1 1 1 1\n",
        "#Se agrega una carpeta de descarga por  /content/[Nombre De Archivo].safetensors \"\\\" <--Este indica que el codigo continua en la linia de abajo, si ejas un espacio vacio y no pones esto da error\n",
        "\n"
      ],
      "metadata": {
        "id": "YrsxJFYS8hQ9"
      },
      "execution_count": null,
      "outputs": []
    },
    {
      "cell_type": "code",
      "source": [
        "#Fusion De Loras\n",
        "!python sd-scripts/networks/merge_lora.py \\\n",
        "--save_precision fp16 \\\n",
        "--save_to /content/Gato.safetensors \\\n",
        "--models \\\n",
        "    /content/ArchivoUNO.safetensors \\\n",
        "    /content/ArchivoDOS.safetensors \\\n",
        "    /content/ArchivoTRES.safetensors \\\n",
        "    /content/ArchivoCUATRO.safetensors \\\n",
        "--ratios 0.25 0.25 0.25 0.2\n"
      ],
      "metadata": {
        "id": "C2Lz3WYI-PX2"
      },
      "execution_count": null,
      "outputs": []
    },
    {
      "cell_type": "markdown",
      "metadata": {
        "id": "iLsO_riJrAEl"
      },
      "source": [
        "---\n",
        "# **Useful Utilities (Optional)**\n",
        "\n",
        "*Stuff that might be useful*"
      ]
    },
    {
      "cell_type": "markdown",
      "metadata": {
        "id": "EzbWAsEc2bAt"
      },
      "source": [
        "## Upload stuff\n",
        "*Quickly upload stuff like merged models to huggingface*\n",
        "\n",
        "Run cell `1,2,3`\n",
        "\n",
        "You only need to choose one between `3.1,3.2,and 3.3`\n",
        "\n",
        "<small>Forked from LYNN\n"
      ]
    },
    {
      "cell_type": "code",
      "execution_count": null,
      "metadata": {
        "cellView": "form",
        "id": "HLPOBeoG2hIm"
      },
      "outputs": [],
      "source": [
        "#@title 1. Login to Huggingface hub (LEE LAS INTRUCIONES)\n",
        "try:\n",
        "  hub_ok # My packaged dep didn't contains this (but stil have the folder)\n",
        "except:\n",
        "  print(\"Setting up huggingface_hub...\")\n",
        "  !pip install --force-reinstall -qqqq huggingface_hub\n",
        "  hub_ok = True\n",
        "from IPython.display import clear_output\n",
        "from huggingface_hub import login\n",
        "clear_output()\n",
        "\n",
        "#@markdown 1. Of course, you need a Huggingface account first.\n",
        "#@markdown 2. To create a huggingface token, go to [this link](https://huggingface.co/settings/tokens), then `create new token` or copy available token with the `Write` role.\n",
        "\n",
        "write_token = \"\" #@param {type:\"string\"}\n",
        "login(write_token, add_to_git_credential=True)"
      ]
    },
    {
      "cell_type": "code",
      "execution_count": null,
      "metadata": {
        "cellView": "form",
        "id": "3ecSNSOY3rKO"
      },
      "outputs": [],
      "source": [
        "#@title 2. Setup Repo (Ya biene todo armado solo dale clik)\n",
        "from huggingface_hub.utils import validate_repo_id, HfHubHTTPError\n",
        "from huggingface_hub import HfApi\n",
        "\n",
        "\n",
        "api = HfApi()\n",
        "user = api.whoami(write_token)\n",
        "\n",
        "#@markdown #### If your model repo didn't exist, it will automatically create your repo.\n",
        "repo_name = \"Nombre\" #@param{type:\"string\"}\n",
        "make_this_repo_private_if_not_exist = False #@param{type:\"boolean\"}\n",
        "clone_with_git = True #@param{type:\"boolean\"}\n",
        "\n",
        "model_repo = user['name']+\"/\"+repo_name.strip()\n",
        "\n",
        "validate_repo_id(model_repo)\n",
        "\n",
        "if repo_name != \"\":\n",
        "  try:\n",
        "      api.create_repo(repo_id=model_repo,\n",
        "                      private=make_this_repo_private_if_not_exist)\n",
        "      print(\"Model Repo didn't exists, creating repo\")\n",
        "      print(\"Model Repo: \",model_repo,\"created!\\n\")\n",
        "\n",
        "  except HfHubHTTPError as e:\n",
        "      print(f\"Model Repo: {model_repo} exists, skipping create repo\\n\")\n",
        "\n",
        "if clone_with_git:\n",
        "  !git lfs install --skip-smudge\n",
        "  !export GIT_LFS_SKIP_SMUDGE=1\n",
        "  !git clone https://huggingface.co/{model_repo} /content/{repo_name}"
      ]
    },
    {
      "cell_type": "code",
      "execution_count": null,
      "metadata": {
        "id": "7Juh7N1c3ooM",
        "cellView": "form"
      },
      "outputs": [],
      "source": [
        "#@title 3.2 Upload via huggingface_hub (Manual way) (Ya biene todo armado solo dale clik)\n",
        "\n",
        "#@markdown All paths for easier access:<br>\n",
        "#@markdown /content/sdw/models/Stable-diffusion<br>\n",
        "#@markdown /content/sdw/models/VAE<br>\n",
        "#@markdown /content/sdw/models/Lora<br>\n",
        "#@markdown /content/sdw/embeddings<br>\n",
        "#@markdown /content/sdw/models/hypernetwork<br>\n",
        "from huggingface_hub import HfApi\n",
        "from pathlib import Path\n",
        "\n",
        "api = HfApi()\n",
        "file_path = \"/content/Gato.safetensors\" #@param {type :\"string\"}\n",
        "commit_message = \"Upload with \\uD83D\\uDE80\\uD83E\\uDD17 NoCrypt's --> El que se armo este codigo tan simple\" #@param {type :\"string\"}\n",
        "\n",
        "if file_path != \"\":\n",
        "  path_obj = Path(file_path)\n",
        "  trained_model = path_obj.parts[-1]\n",
        "\n",
        "  print(f\"Uploading {trained_model} to https://huggingface.co/\"+model_repo)\n",
        "  print(f\"Please wait...\")\n",
        "\n",
        "  api.upload_file(\n",
        "      path_or_fileobj=file_path,\n",
        "      path_in_repo=trained_model,\n",
        "      repo_id=model_repo,\n",
        "      commit_message=commit_message,\n",
        "  )\n",
        "\n",
        "  print(f\"Upload success, located at https://huggingface.co/\"+model_repo+\"/blob/main/\"+trained_model+\"\\n\")"
      ]
    }
  ]
}