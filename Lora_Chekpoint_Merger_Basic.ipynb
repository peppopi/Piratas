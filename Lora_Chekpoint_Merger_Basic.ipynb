{
  "nbformat": 4,
  "nbformat_minor": 0,
  "metadata": {
    "colab": {
      "provenance": [],
      "authorship_tag": "ABX9TyOLWoQbCfp3e8ifgTSWzKpv",
      "include_colab_link": true
    },
    "kernelspec": {
      "name": "python3",
      "display_name": "Python 3"
    },
    "language_info": {
      "name": "python"
    }
  },
  "cells": [
    {
      "cell_type": "markdown",
      "metadata": {
        "id": "view-in-github",
        "colab_type": "text"
      },
      "source": [
        "<a href=\"https://colab.research.google.com/github/peppopi/Piratas/blob/main/Lora_Chekpoint_Merger_Basic.ipynb\" target=\"_parent\"><img src=\"https://colab.research.google.com/assets/colab-badge.svg\" alt=\"Open In Colab\"/></a>"
      ]
    },
    {
      "cell_type": "code",
      "source": [
        "import os\n",
        "from tqdm import tqdm\n",
        "import requests\n",
        "#@markdown Aca se Pone el Link del Modelo Base Usar, se recomienda ir poniendo varios, se sovrescribe automaticamente\n",
        "ruta_carpeta = \"/content/models/\"\n",
        "\n",
        "def descargar_archivo(url, ruta_carpeta, nombre_archivo):\n",
        "    response = requests.get(url, stream=True)\n",
        "    total_size = int(response.headers.get(\"content-length\", 0))\n",
        "    ruta_completa_archivo = os.path.join(ruta_carpeta, nombre_archivo)\n",
        "\n",
        "    with open(ruta_completa_archivo, \"wb\") as archivo:\n",
        "        progress_bar = tqdm(total=total_size, unit=\"B\", unit_scale=True)\n",
        "        for data in response.iter_content(chunk_size=4096):\n",
        "            archivo.write(data)\n",
        "            progress_bar.update(len(data))\n",
        "        progress_bar.close()\n",
        "\n",
        "# URL del archivo que deseas descargar\n",
        "url = \"https://civitai.com/api/download/models/15236\" #@param {type:\"string\"}\n",
        "# Nombre del archivo en tu entorno de ejecución\n",
        "nombre_archivo = \"Nomana.safetensors\"\n",
        "\n",
        "# Descargar el archivo\n",
        "descargar_archivo(url, ruta_carpeta, nombre_archivo)\n"
      ],
      "metadata": {
        "cellView": "form",
        "id": "1e55KZ-O70dA"
      },
      "execution_count": null,
      "outputs": []
    },
    {
      "cell_type": "code",
      "source": [
        "#Se descargan dependencias:\n",
        "!git clone https://github.com/kohya-ss/sd-scripts.git\n",
        "!cd /content/sd-scripts && pip install -r requirements.txt\n",
        "\n",
        "\n",
        "#Se descargan los Loras:\n",
        "!wget https://civitai.com/api/download/models/47143 -O ArchivoUNO.safetensors\n",
        "!wget https://civitai.com/api/download/models/90716 -O ArchivoDOS.safetensors\n",
        "!wget https://civitai.com/api/download/models/52086 -O ArchivoTRES.safetensors\n",
        "!wget https://civitai.com/api/download/models/55777 -O ArchivoCUATRO.safetensors\n",
        "#Formato\n",
        "# !wget [LINK] -O [Nombre De Archivo].safetensors (NO hace falta poner el verdaero, es inventado)"
      ],
      "metadata": {
        "id": "eXIeGCIn8Hfg"
      },
      "execution_count": null,
      "outputs": []
    },
    {
      "cell_type": "code",
      "source": [
        "# Crea el Chekpoint, es decir hace el mergin y combina los Loras con un modelo\n",
        "!python sd-scripts/networks/merge_lora.py \\\n",
        "--sd_model /content/models/Nomana.safetensors \\ #Simpre sera Nomana.safetensors el Modelo, pero recorda que si o si el modelo debe tener VAE para usarlo aca, sino da error.\n",
        "--save_precision fp16 \\\n",
        "--save_to /content/Gato.safetensors \\ #Donde se guardara\n",
        "--models \\\n",
        "    /content/ArchivoUNO.safetensors \\ #Aca van los nombres de los LORAS\n",
        "    /content/ArchivoDOS.safetensors \\\n",
        "    /content/ArchivoTRES.safetensors \\\n",
        "    /content/ArchivoCUATRO.safetensors \\\n",
        "--ratios 1 1 1 1 #Aca pones que tanto se pondera cada Lora, un 1 es ponderar todo, un 0.5 es ponderar la mitad, un 0.25 es ponderar un cuarto del LORA\n",
        "\n",
        "#Para agregar un Lora hay que seguir la siguiente regla\n",
        "#Se agrega un NUMERO en el --ratios POR LORA ==> 5 LORAS, 5 NUMEROS RATIOS ==> --ratios 1 1 1 1 1\n",
        "#Se agrega una carpeta de descarga por  /content/[Nombre De Archivo].safetensors \"\\\" <--Este indica que el codigo continua en la linia de abajo, si ejas un espacio vacio y no pones esto da error\n",
        "\n"
      ],
      "metadata": {
        "id": "YrsxJFYS8hQ9"
      },
      "execution_count": null,
      "outputs": []
    },
    {
      "cell_type": "code",
      "source": [
        "# FUCIONAR Loras\n",
        "!python sd-scripts/networks/merge_lora.py \\\n",
        "--save_precision fp16 \\\n",
        "--save_to /content/Gato.safetensors \\ #Donde se guardara\n",
        "--models \\\n",
        "    /content/ArchivoUNO.safetensors \\ #Aca van los nombres de los LORAS\n",
        "    /content/ArchivoDOS.safetensors \\\n",
        "    /content/ArchivoTRES.safetensors \\\n",
        "    /content/ArchivoCUATRO.safetensors \\\n",
        "--ratios 1 1 1 1 #Se funcionan 4 Loras"
      ],
      "metadata": {
        "id": "C2Lz3WYI-PX2"
      },
      "execution_count": null,
      "outputs": []
    }
  ]
}